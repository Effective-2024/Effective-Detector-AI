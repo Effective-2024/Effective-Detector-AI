{
 "cells": [
  {
   "cell_type": "code",
   "execution_count": 7,
   "metadata": {},
   "outputs": [],
   "source": [
    "import tensorflow as tf\n",
    "import keras\n",
    "from matplotlib import pyplot as plt"
   ]
  },
  {
   "cell_type": "code",
   "execution_count": 8,
   "metadata": {},
   "outputs": [
    {
     "data": {
      "text/plain": [
       "[PhysicalDevice(name='/physical_device:GPU:0', device_type='GPU')]"
      ]
     },
     "execution_count": 8,
     "metadata": {},
     "output_type": "execute_result"
    }
   ],
   "source": [
    "tf.config.list_physical_devices('GPU')"
   ]
  },
  {
   "cell_type": "code",
   "execution_count": 9,
   "metadata": {},
   "outputs": [],
   "source": [
    "IMAGE_SIZE = (224, 224)\n",
    "BATCH_SIZE = 8"
   ]
  },
  {
   "cell_type": "code",
   "execution_count": 10,
   "metadata": {},
   "outputs": [],
   "source": [
    "train_dir = './converted_dataset/train'\n",
    "test_dir = './converted_dataset/test'"
   ]
  },
  {
   "cell_type": "code",
   "execution_count": 11,
   "metadata": {},
   "outputs": [
    {
     "name": "stdout",
     "output_type": "stream",
     "text": [
      "Found 136912 files belonging to 4 classes.\n",
      "Using 109530 files for training.\n"
     ]
    },
    {
     "name": "stderr",
     "output_type": "stream",
     "text": [
      "2024-04-12 23:57:50.065804: I tensorflow/core/common_runtime/gpu/gpu_device.cc:1929] Created device /job:localhost/replica:0/task:0/device:GPU:0 with 10257 MB memory:  -> device: 0, name: NVIDIA GeForce GTX 1080 Ti, pci bus id: 0000:03:00.0, compute capability: 6.1\n"
     ]
    },
    {
     "name": "stdout",
     "output_type": "stream",
     "text": [
      "Found 136912 files belonging to 4 classes.\n",
      "Using 27382 files for validation.\n"
     ]
    }
   ],
   "source": [
    "train_dataset = keras.utils.image_dataset_from_directory(\n",
    "    train_dir,\n",
    "    validation_split = 0.2,\n",
    "    image_size = IMAGE_SIZE,\n",
    "    batch_size = BATCH_SIZE,\n",
    "    subset = 'training',\n",
    "    seed=2024\n",
    "\n",
    ")\n",
    "\n",
    "valid_dataset = keras.utils.image_dataset_from_directory(\n",
    "    train_dir,\n",
    "    validation_split = 0.2,\n",
    "    image_size = IMAGE_SIZE,\n",
    "    batch_size = BATCH_SIZE,\n",
    "    subset = 'validation',\n",
    "    seed=2024\n",
    ")\n"
   ]
  },
  {
   "cell_type": "code",
   "execution_count": 12,
   "metadata": {},
   "outputs": [
    {
     "name": "stdout",
     "output_type": "stream",
     "text": [
      "['fall', 'help', 'indoor', 'medical']\n"
     ]
    }
   ],
   "source": [
    "class_names = train_dataset.class_names\n",
    "print(class_names)"
   ]
  },
  {
   "cell_type": "code",
   "execution_count": 13,
   "metadata": {},
   "outputs": [],
   "source": [
    "train_dataset = train_dataset.prefetch(buffer_size=tf.data.AUTOTUNE)\n",
    "valid_dataset = valid_dataset.prefetch(buffer_size=tf.data.AUTOTUNE)"
   ]
  },
  {
   "cell_type": "code",
   "execution_count": 14,
   "metadata": {},
   "outputs": [],
   "source": [
    "IMG_SHAPE = IMAGE_SIZE + (3,)\n",
    "inputs = keras.layers.Input(shape=IMG_SHAPE)\n",
    "model = keras.applications.EfficientNetB0(\n",
    "    input_tensor=inputs,\n",
    "    include_top=False,\n",
    "    weights='imagenet'\n",
    ")"
   ]
  },
  {
   "cell_type": "code",
   "execution_count": 15,
   "metadata": {},
   "outputs": [],
   "source": [
    "model.trainable = False"
   ]
  },
  {
   "cell_type": "code",
   "execution_count": 16,
   "metadata": {},
   "outputs": [],
   "source": [
    "x = keras.layers.GlobalAveragePooling2D(name=\"avg_pool\")(model.output)\n",
    "\n",
    "outputs = keras.layers.Dense(4, activation=\"softmax\", name=\"pred\")(x)"
   ]
  },
  {
   "cell_type": "code",
   "execution_count": 17,
   "metadata": {},
   "outputs": [],
   "source": [
    "model = keras.Model(inputs=inputs, outputs=outputs, name=\"EfficientNet\")\n",
    "optimizer = keras.optimizers.Adam(learning_rate=1e-2)\n",
    "model.compile(\n",
    "    optimizer = optimizer, loss=\"sparse_categorical_crossentropy\", metrics=[\"accuracy\"]\n",
    ")"
   ]
  },
  {
   "cell_type": "code",
   "execution_count": 18,
   "metadata": {},
   "outputs": [],
   "source": [
    "def plot_hist(hist):\n",
    "    plt.plot(hist.history[\"accuracy\"])\n",
    "    plt.plot(hist.history[\"val_accuracy\"])\n",
    "    plt.title(\"model accuracy\")\n",
    "    plt.ylabel(\"accuracy\")\n",
    "    plt.xlabel(\"epoch\")\n",
    "    plt.legend([\"train\", \"validation\"], loc=\"upper left\")\n",
    "    plt.show()"
   ]
  },
  {
   "cell_type": "code",
   "execution_count": 19,
   "metadata": {},
   "outputs": [
    {
     "name": "stdout",
     "output_type": "stream",
     "text": [
      "Epoch 1/10\n"
     ]
    },
    {
     "name": "stderr",
     "output_type": "stream",
     "text": [
      "2024-04-12 23:58:17.344849: E tensorflow/core/grappler/optimizers/meta_optimizer.cc:961] layout failed: INVALID_ARGUMENT: Size of values 0 does not match size of permutation 4 @ fanin shape inEfficientNet/block2b_drop/dropout/SelectV2-2-TransposeNHWCToNCHW-LayoutOptimizer\n",
      "2024-04-12 23:58:20.533174: I external/local_xla/xla/stream_executor/cuda/cuda_dnn.cc:454] Loaded cuDNN version 8904\n",
      "2024-04-12 23:58:21.660889: I external/local_xla/xla/service/service.cc:168] XLA service 0x74778c3f0780 initialized for platform CUDA (this does not guarantee that XLA will be used). Devices:\n",
      "2024-04-12 23:58:21.660952: I external/local_xla/xla/service/service.cc:176]   StreamExecutor device (0): NVIDIA GeForce GTX 1080 Ti, Compute Capability 6.1\n",
      "2024-04-12 23:58:21.679369: I tensorflow/compiler/mlir/tensorflow/utils/dump_mlir_util.cc:269] disabling MLIR crash reproducer, set env var `MLIR_CRASH_REPRODUCER_DIRECTORY` to enable.\n",
      "WARNING: All log messages before absl::InitializeLog() is called are written to STDERR\n",
      "I0000 00:00:1712933901.824285    6794 device_compiler.h:186] Compiled cluster using XLA!  This line is logged at most once for the lifetime of the process.\n"
     ]
    },
    {
     "name": "stdout",
     "output_type": "stream",
     "text": [
      "13692/13692 [==============================] - 2995s 218ms/step - loss: 0.0611 - accuracy: 0.9848 - val_loss: 0.0539 - val_accuracy: 0.9886\n",
      "Epoch 2/10\n",
      "13692/13692 [==============================] - 392s 29ms/step - loss: 0.0408 - accuracy: 0.9922 - val_loss: 0.0165 - val_accuracy: 0.9971\n",
      "Epoch 3/10\n",
      "13692/13692 [==============================] - 386s 28ms/step - loss: 0.0362 - accuracy: 0.9942 - val_loss: 0.0091 - val_accuracy: 0.9988\n",
      "Epoch 4/10\n",
      "13692/13692 [==============================] - 382s 28ms/step - loss: 0.0333 - accuracy: 0.9952 - val_loss: 0.0179 - val_accuracy: 0.9970\n",
      "Epoch 5/10\n",
      "13692/13692 [==============================] - 383s 28ms/step - loss: 0.0322 - accuracy: 0.9956 - val_loss: 0.0073 - val_accuracy: 0.9991\n",
      "Epoch 6/10\n",
      "13692/13692 [==============================] - 384s 28ms/step - loss: 0.0324 - accuracy: 0.9959 - val_loss: 0.0134 - val_accuracy: 0.9982\n",
      "Epoch 7/10\n",
      "13692/13692 [==============================] - 385s 28ms/step - loss: 0.0283 - accuracy: 0.9966 - val_loss: 0.0079 - val_accuracy: 0.9992\n",
      "Epoch 8/10\n",
      "13692/13692 [==============================] - 385s 28ms/step - loss: 0.0309 - accuracy: 0.9965 - val_loss: 0.0085 - val_accuracy: 0.9989\n",
      "Epoch 9/10\n",
      "13692/13692 [==============================] - 387s 28ms/step - loss: 0.0265 - accuracy: 0.9968 - val_loss: 0.0092 - val_accuracy: 0.9988\n",
      "Epoch 10/10\n",
      "13692/13692 [==============================] - 386s 28ms/step - loss: 0.0276 - accuracy: 0.9969 - val_loss: 0.0121 - val_accuracy: 0.9989\n"
     ]
    },
    {
     "data": {
      "image/png": "[encoded data removed]",
      "text/plain": [
       "<Figure size 640x480 with 1 Axes>"
      ]
     },
     "metadata": {},
     "output_type": "display_data"
    }
   ],
   "source": [
    "epochs = 10\n",
    "hist = model.fit(train_dataset, epochs = epochs, validation_data = valid_dataset)\n",
    "plot_hist(hist)"
   ]
  },
  {
   "cell_type": "code",
   "execution_count": 24,
   "metadata": {},
   "outputs": [
    {
     "name": "stdout",
     "output_type": "stream",
     "text": [
      "Found 14564 files belonging to 4 classes.\n"
     ]
    }
   ],
   "source": [
    "test_dataset = keras.utils.image_dataset_from_directory(\n",
    "    test_dir,\n",
    "    image_size = IMAGE_SIZE,\n",
    "    batch_size = BATCH_SIZE,\n",
    "    seed=2024\n",
    ")\n"
   ]
  },
  {
   "cell_type": "code",
   "execution_count": 25,
   "metadata": {},
   "outputs": [],
   "source": [
    "test_dataset = test_dataset.prefetch(buffer_size=tf.data.AUTOTUNE)"
   ]
  },
  {
   "cell_type": "code",
   "execution_count": 26,
   "metadata": {},
   "outputs": [
    {
     "name": "stdout",
     "output_type": "stream",
     "text": [
      "1821/1821 [==============================] - 245s 134ms/step - loss: 0.2070 - accuracy: 0.9923\n"
     ]
    },
    {
     "data": {
      "text/plain": [
       "[0.20704570412635803, 0.9923098087310791]"
      ]
     },
     "execution_count": 26,
     "metadata": {},
     "output_type": "execute_result"
    }
   ],
   "source": [
    "model.evaluate(test_dataset)"
   ]
  },
  {
   "cell_type": "code",
   "execution_count": 27,
   "metadata": {},
   "outputs": [
    {
     "name": "stderr",
     "output_type": "stream",
     "text": [
      "/media/cis/새 볼륨/audio/myenv/lib/python3.11/site-packages/keras/src/engine/training.py:3103: UserWarning: You are saving your model as an HDF5 file via `model.save()`. This file format is considered legacy. We recommend using instead the native Keras format, e.g. `model.save('my_model.keras')`.\n",
      "  saving_api.save_model(\n"
     ]
    }
   ],
   "source": [
    "model.save('first_model.h5')"
   ]
  }
 ],
 "metadata": {
  "kernelspec": {
   "display_name": "myenv",
   "language": "python",
   "name": "python3"
  },
  "language_info": {
   "codemirror_mode": {
    "name": "ipython",
    "version": 3
   },
   "file_extension": ".py",
   "mimetype": "text/x-python",
   "name": "python",
   "nbconvert_exporter": "python",
   "pygments_lexer": "ipython3",
   "version": "3.11.5"
  }
 },
 "nbformat": 4,
 "nbformat_minor": 2
}
